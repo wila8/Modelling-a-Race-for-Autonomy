{
 "cells": [
  {
   "cell_type": "markdown",
   "metadata": {},
   "source": [
    "# Race for Autonomy - EMA"
   ]
  },
  {
   "cell_type": "code",
   "execution_count": null,
   "metadata": {},
   "outputs": [],
   "source": [
    "import numpy as np\n",
    "import pandas as pd\n",
    "import seaborn as sns\n",
    "import matplotlib.pyplot as plt\n",
    "import ema_workbench\n",
    "import datetime\n",
    "import random\n",
    "import math\n",
    "\n",
    "from ema_workbench import load_results\n",
    "from ema_workbench.analysis import pairs_plotting\n",
    "import matplotlib.pyplot as plt\n",
    "from ema_workbench.analysis import prim\n",
    "import ema_workbench.analysis.clusterer as clusterer\n",
    "from sklearn.cluster import AgglomerativeClustering\n",
    "\n",
    "%matplotlib inline\n",
    "from ema_workbench import(Model, RealParameter,Constant,IntegerParameter,ScalarOutcome,CategoricalParameter, TimeSeriesOutcome, Policy, perform_experiments, ema_logging, save_results, load_results)\n",
    "from ema_workbench.connectors.vensim import VensimModel\n",
    "from ema_workbench.analysis.plotting import lines, plot_lines_with_envelopes,envelopes\n",
    "from ema_workbench.analysis import Density\n",
    "import ema_workbench.analysis.pairs_plotting as pairs\n",
    "import ema_workbench.analysis.plotting as emaplt"
   ]
  },
  {
   "cell_type": "code",
   "execution_count": null,
   "metadata": {
    "scrolled": true
   },
   "outputs": [],
   "source": [
    "#get model\n",
    "wd =  './model/'\n",
    "model = VensimModel(\"simpleModel\", wd=wd, model_file=\"AutonomyRace.vpmx\")"
   ]
  },
  {
   "cell_type": "markdown",
   "metadata": {},
   "source": [
    "# Prepare EMA"
   ]
  },
  {
   "cell_type": "markdown",
   "metadata": {},
   "source": [
    "Define uncertainties depending on analysis (extreme conditions validation or analysis)."
   ]
  },
  {
   "cell_type": "code",
   "execution_count": null,
   "metadata": {},
   "outputs": [],
   "source": [
    "# prepare uncertainties are categoricals for exgtreme conditions (minimum and maximum values)\n",
    "\n",
    "uncertainties = [\n",
    "CategoricalParameter('Initial UAS stock A',[500,10000]), \n",
    "CategoricalParameter('Initial tech sophistication under development A',[0.125,0.6]),\n",
    "CategoricalParameter('Initial UAS stock B',[50,3000]),\n",
    "CategoricalParameter('Initial tech sophistication under development B', [0.125,0.5]),\n",
    "CategoricalParameter('Initial level of autonomy under development A',[0.125,0.6]),\n",
    "CategoricalParameter('Initial level of autonomy A',[0.05,0.4]),\n",
    "CategoricalParameter('Initial level of tech sophistication B',[0.005,0.2]),\n",
    "CategoricalParameter('Initial level of autonomy under development B',[0.1,0.5]),\n",
    "CategoricalParameter('Initial level of autonomy B',[0.005,0.2]),\n",
    "CategoricalParameter('Initial level of tech sophistication A',[0.05,0.4]),\n",
    "CategoricalParameter('v tech A',[1,20]), \n",
    "CategoricalParameter('v tech B',[1,20]),\n",
    "CategoricalParameter('Q tech A',[1,20]), \n",
    "CategoricalParameter('Q tech B',[1,20]), \n",
    "CategoricalParameter('v AI A',[1,20]), #lever\n",
    "CategoricalParameter('v AI B',[1,20]),#lever\n",
    "CategoricalParameter('Q AI A',[1,20]), #lever\n",
    "CategoricalParameter('Q AI B',[1,20]),#lever\n",
    "CategoricalParameter('Initial capabilities A',[50000,400000]),\n",
    "CategoricalParameter('Initial capabilities B',[5000,300000]), \n",
    "CategoricalParameter('Sensitivity to opposing UAS production A',[0.375,2.5]), \n",
    "CategoricalParameter('Sensitivity to opposing UAS production B',[0.375,2.5]),\n",
    "CategoricalParameter('Average life of UAS A',[10,60]),\n",
    "CategoricalParameter('Average lifetime of capabilities A',[10,60]),\n",
    "CategoricalParameter('Average lifetime of capabilities B',[2.5,50]),\n",
    "CategoricalParameter('Average life of UAS B',[2.5,50]),\n",
    "CategoricalParameter('Capability procurement speed A',[1,14]),\n",
    "CategoricalParameter('Average procurement delay other cap A',[1,14]),\n",
    "CategoricalParameter('Capability procurement speed B',[3.5,20]),\n",
    "CategoricalParameter('Average procurement delay other cap B',[3.5,20]),\n",
    "CategoricalParameter('Time to change desired margin of superiority A',[0.375,4]), \n",
    "CategoricalParameter('Time to authorize UAS development A',[0.375,4]),\n",
    "CategoricalParameter('Time to authorize UAS development B',[0.375,4]),\n",
    "CategoricalParameter('Time to perceive opposing UAS A',[0.125,1.5]),\n",
    "CategoricalParameter('Time to perceive opposing UAS B',[0.125,1.5]),\n",
    "CategoricalParameter('Average procurement delay A',[0.5,40]),\n",
    "CategoricalParameter('Average procurement delay B',[0.5,40]),\n",
    "CategoricalParameter('GDP growth rate A',[0.005,0.14]), \n",
    "CategoricalParameter('GDP growth rate B',[0.0025,0.2]),\n",
    "CategoricalParameter('Initial GDP A',[1000000000000,40000000000000]),\n",
    "CategoricalParameter('Initial GDP B',[400000000000,4000000000000]),\n",
    "CategoricalParameter('Initial Defense budget as part of GDP A',[0.005,0.2]),\n",
    "CategoricalParameter('Initial Defense budget as part of GDP B',[0.005,0.2]),\n",
    "CategoricalParameter('Base operators needed A',[0.25,20]), #lever\n",
    "CategoricalParameter('Base operators needed B',[0.005,4]), #lever\n",
    "CategoricalParameter('maintainers per UAS A',[0.005,10]),\n",
    "CategoricalParameter('maintainers per UAS B',[0.005,10]),\n",
    "CategoricalParameter('Time to recruit A',[0.25,4]),\n",
    "CategoricalParameter('Time to recruit B',[0.25,4]),\n",
    "CategoricalParameter('Time to train A',[0.5,10]),\n",
    "CategoricalParameter('Time to train B',[0.5,4]),\n",
    "CategoricalParameter('Time in service A',[3.5,50]),\n",
    "CategoricalParameter('Time in service B',[2.5,50]),\n",
    "CategoricalParameter('Training cost per personnel A',[2500,50000]),\n",
    "CategoricalParameter('Training cost per personnel B',[500,20000]),\n",
    "CategoricalParameter('Cost per personnel A',[25000,500000]),\n",
    "CategoricalParameter('Cost per personnel B',[5000,200000]),\n",
    "CategoricalParameter('initial percentage of military budget for autonomous systems A',[0.0005,0.9]), #not working with 100%\n",
    "CategoricalParameter('initial percentage of military budget for autonomous systems B',[0.0005,0.9]),\n",
    "CategoricalParameter('Sensitivity to opposing UAS production A',[0.375,2.5]),\n",
    "CategoricalParameter('Bias in estimating opposing UAS A',[0.375,2.5]),\n",
    "CategoricalParameter('Sensitivity to opposing UAS production B',[0.375,2.5]),\n",
    "CategoricalParameter('Bias in estimating opposing UAS B',[0.375,2.5]),\n",
    "CategoricalParameter('weight autonomy B',[0.5,1]),\n",
    "CategoricalParameter('weight autonomy A',[0.5,1]),\n",
    "CategoricalParameter('Bias in estimating domestic UAS A',[0.375,2.5]),\n",
    "CategoricalParameter('Bias in estimating domestic UAS B',[0.375,2.5])]"
   ]
  },
  {
   "cell_type": "code",
   "execution_count": null,
   "metadata": {},
   "outputs": [],
   "source": [
    "# prepare uncertainties as parameter ranges for analyses\n",
    "\n",
    "\n",
    "uncertainties = [\n",
    "RealParameter('Initial UAS stock A',1000,5000), \n",
    "RealParameter('Initial tech sophistication under development A', 0.25,0.3),\n",
    "RealParameter('Initial UAS stock B',100,1500),\n",
    "    \n",
    "RealParameter('Initial tech sophistication under development B', 0.2,0.25),\n",
    "RealParameter('Initial level of autonomy under development A',0.25,0.3),\n",
    "RealParameter('Initial level of autonomy A',0.1,0.2),\n",
    "RealParameter('Initial level of tech sophistication B',0.01,0.1),\n",
    "RealParameter('Initial level of autonomy under development B',0.2,0.25),\n",
    "RealParameter('Initial level of autonomy B',0.01,0.1),\n",
    "RealParameter('Initial level of tech sophistication A',0.1,0.2),\n",
    "\n",
    "\n",
    "RealParameter('v tech A',1,20), \n",
    "RealParameter('v tech B',1,20),\n",
    "RealParameter('Q tech A',1,20), \n",
    "RealParameter('Q tech B',1,20), \n",
    "RealParameter('v AI A',1,20), #lever\n",
    "RealParameter('v AI B',1,20),#lever\n",
    "RealParameter('Q AI A',1,20), #lever\n",
    "RealParameter('Q AI B',1,20),#lever\n",
    "\n",
    "\n",
    "RealParameter('Initial capabilities A',100000,200000),\n",
    "RealParameter('Initial capabilities B',10000,150000), \n",
    "\n",
    "RealParameter('Sensitivity to opposing UAS production A',0.75,1.25), \n",
    "RealParameter('Sensitivity to opposing UAS production B',0.75,1.25),\n",
    "    \n",
    "RealParameter('Average life of UAS A',20,30),\n",
    "RealParameter('Average lifetime of capabilities A',20,30),\n",
    "    \n",
    "RealParameter('Average lifetime of capabilities B',5,25),\n",
    "RealParameter('Average life of UAS B',5,25),\n",
    "  \n",
    "    \n",
    "RealParameter('Capability procurement speed A',2,7),\n",
    "RealParameter('Average procurement delay other cap A',2,7),\n",
    "RealParameter('Capability procurement speed B',7,10),\n",
    "RealParameter('Average procurement delay other cap B',7,10),\n",
    "    \n",
    "\n",
    "RealParameter('Time to change desired margin of superiority A',0.75,2), \n",
    "RealParameter('Time to authorize UAS development A',0.75,2),\n",
    "RealParameter('Time to authorize UAS development B',0.75,2),\n",
    "RealParameter('Time to perceive opposing UAS A',0.25,0.75),\n",
    "RealParameter('Time to perceive opposing UAS B',0.25,0.75),\n",
    "\n",
    "RealParameter('Average procurement delay A',2,10),\n",
    "RealParameter('Average procurement delay B',2,10),\n",
    "RealParameter('GDP growth rate A',0.01,0.07), \n",
    "RealParameter('GDP growth rate B',0.05,0.1),\n",
    "RealParameter('Initial GDP A',2000000000000,20000000000000),\n",
    "RealParameter('Initial GDP B',800000000000,2000000000000),\n",
    "RealParameter('Initial Defense budget as part of GDP A',0.01,0.1),\n",
    "RealParameter('Initial Defense budget as part of GDP B',0.01,0.1),\n",
    "\n",
    "RealParameter('Base operators needed A',0.5,10), #lever\n",
    "RealParameter('Base operators needed B',0.01,2), #lever\n",
    "RealParameter('maintainers per UAS A',0.01,5),\n",
    "RealParameter('maintainers per UAS B',0.01,5),\n",
    "    \n",
    "RealParameter('Time to recruit A',0.5,2),\n",
    "RealParameter('Time to recruit B',0.5,2),\n",
    "RealParameter('Time to train A',1,5),\n",
    "RealParameter('Time to train B',1,2),\n",
    "RealParameter('Time in service A',7,25),\n",
    "RealParameter('Time in service B',5,25),\n",
    "RealParameter('Training cost per personnel A',5000,25000),\n",
    "RealParameter('Training cost per personnel B',1000,10000),\n",
    "RealParameter('Cost per personnel A',50000,250000),\n",
    "RealParameter('Cost per personnel B',10000,100000),\n",
    "\n",
    "\n",
    "RealParameter('initial percentage of military budget for autonomous systems A',0.001,0.99),\n",
    "RealParameter('initial percentage of military budget for autonomous systems B',0.001,0.99),\n",
    "RealParameter('Sensitivity to opposing UAS production A',0.75,1.25),\n",
    "RealParameter('Bias in estimating opposing UAS A',0.75,1.25),\n",
    "RealParameter('Sensitivity to opposing UAS production B',0.75,1.25),\n",
    "RealParameter('Bias in estimating opposing UAS B',0.75,1.25),\n",
    "RealParameter('weight autonomy B',0.5,1),\n",
    "RealParameter('weight autonomy A',0.5,1),\n",
    "RealParameter('Bias in estimating domestic UAS A',0.75,1.25),\n",
    "RealParameter('Bias in estimating domestic UAS B',0.75,1.25)]"
   ]
  },
  {
   "cell_type": "code",
   "execution_count": null,
   "metadata": {},
   "outputs": [],
   "source": [
    "outcomes = [\n",
    "TimeSeriesOutcome('New percentage of GDP B'),\n",
    "TimeSeriesOutcome('New percentage of GDP A'),\n",
    "TimeSeriesOutcome('UAS stock A'),\n",
    "TimeSeriesOutcome('UAS stock B'),\n",
    "TimeSeriesOutcome('effectiveness UAS stock A'),\n",
    "TimeSeriesOutcome('effectiveness UAS stock B'),\n",
    "]"
   ]
  },
  {
   "cell_type": "code",
   "execution_count": null,
   "metadata": {},
   "outputs": [],
   "source": [
    "model.uncertainties = uncertainties\n",
    "model.outcomes = outcomes"
   ]
  },
  {
   "cell_type": "markdown",
   "metadata": {},
   "source": [
    "# Define policies"
   ]
  },
  {
   "cell_type": "markdown",
   "metadata": {},
   "source": [
    "Define policies (either regulation policies or spoiling policies).\n",
    "\n",
    "To generate the vpmx files for the regulation policies:\n",
    "- in the Vensim Model file, go to policy switch \"Regulations\" in the Technology submodel\n",
    "- restrict the level of autonomy to 5 as indicated in the comment box of this parameter\n",
    "\n",
    "To generate the vpmx files for the spoiling policies:\n",
    "- for the quality policy, in Technology submbodel, switch policy lever for \"take out skilled personnel\" and \"restrict access to critical components\" to 1\n",
    "- for the funding policy, in Racing submodel, switch policy lever for \"restrict access to funding\" to 1.\n",
    "- for the combined policy, do both\n",
    "\n",
    "Run the model in these configurations independently and export vpmx files for each model run."
   ]
  },
  {
   "cell_type": "code",
   "execution_count": null,
   "metadata": {},
   "outputs": [],
   "source": [
    "# regulations\n",
    "\n",
    "policies = [Policy('no policy',\n",
    "                   model_file='AutonomyRace.vpmx'),\n",
    "            Policy('adaptive policy',\n",
    "                   model_file='AutonomyRaceAdaptive.vpmx'),\n",
    "            Policy('halfway policy',\n",
    "                   model_file='AutonomyRaceHalfway.vpmx'),\n",
    "            Policy('static policy',\n",
    "                   model_file='AutonomyRaceStatic.vpmx')\n",
    "            ]"
   ]
  },
  {
   "cell_type": "code",
   "execution_count": null,
   "metadata": {},
   "outputs": [],
   "source": [
    "# spoiling strategies\n",
    "\n",
    "policies =  [Policy('no policy',\n",
    "                   model_file='AutonomyRace.vpmx'),\n",
    "            Policy('quality policy',\n",
    "                   model_file='AutonomyRaceQuality.vpmx'),\n",
    "            Policy('funding policy',\n",
    "                   model_file='AutonomyRaceFunding.vpmx'),\n",
    "            Policy('combined policy',\n",
    "                   model_file='AutonomyRaceCombined.vpmx'),\n",
    "            ]"
   ]
  },
  {
   "cell_type": "markdown",
   "metadata": {},
   "source": [
    "# Open exploration / Extreme Conditions"
   ]
  },
  {
   "cell_type": "code",
   "execution_count": null,
   "metadata": {
    "scrolled": true
   },
   "outputs": [],
   "source": [
    "nbscenarios = 1000\n",
    "experiments, outcomes  = perform_experiments(model,  nbscenarios = nbscenarios, policies=policies)\n",
    "#ema_workbench.util.utilities.save_results(results, \"1000Scenarios_4Policies\")\n",
    "#results = ema_workbench.util.utilities.load_results(\"Results\")\n",
    "results = experiments, outcomes\n"
   ]
  },
  {
   "cell_type": "code",
   "execution_count": null,
   "metadata": {
    "scrolled": true
   },
   "outputs": [],
   "source": [
    "# show the outcomes of interest\n",
    "plt.rcParams[\"figure.figsize\"] = (50,50)\n",
    "fig, axes = pairs_plotting.pairs_scatter(experiments, outcomes, group_by='policy', legend=False)\n",
    "fig.set_size_inches(20, 20)\n",
    "plt.show()"
   ]
  },
  {
   "cell_type": "code",
   "execution_count": null,
   "metadata": {},
   "outputs": [],
   "source": [
    "# plot the spendings\n",
    "spendings = {}\n",
    "spendings['UAS stock A'] = outcomes['UAS stock A']\n",
    "spendings['UASstock B'] = outcomes['UAS stock B']\n",
    "\n",
    "fig, axes = pairs_plotting.pairs_scatter(experiments, spendings, group_by='policy', legend=False)\n",
    "figure = lines(experiments, spendings)#, density = kde) #show lines, and end state density\n",
    "\n",
    "plt.rcParams[\"figure.figsize\"] =(10,10)\n",
    "\n",
    "plt.show() #show figure"
   ]
  },
  {
   "cell_type": "markdown",
   "metadata": {},
   "source": [
    "# Find extreme scenarios"
   ]
  },
  {
   "cell_type": "markdown",
   "metadata": {},
   "source": [
    "Extreme scenarios are those where a nation spends more than 46% of its GDP as defense."
   ]
  },
  {
   "cell_type": "code",
   "execution_count": null,
   "metadata": {},
   "outputs": [],
   "source": [
    "#extreme spendings\n",
    "threshold = 0.46\n",
    "ExtremeScenarios = []\n",
    "for column in range(nbscenarios):\n",
    "    for row in range(7681):\n",
    "        if (outcomes['New percentage of GDP A'][column][row] > threshold  ) or ( outcomes['New percentage of GDP B'][column][row] > threshold):\n",
    "            ExtremeScenarios.append(column)\n",
    "            \n",
    "ExtremeScenariosAll = list(dict.fromkeys(ExtremeScenarios))\n",
    "len(ExtremeScenariosAll)/nbscenarios # how many is that?"
   ]
  },
  {
   "cell_type": "code",
   "execution_count": null,
   "metadata": {},
   "outputs": [],
   "source": [
    "#those scenarios with normal defense spendings that are less than 46% of GDP\n",
    "list1 = np.arange(len(outcomes['New percentage of GDP A'])).tolist()\n",
    "SetScenariosNotExtreme = set(list1) - set(ExtremeScenarios)\n",
    "\n",
    "ScenariosNotExtreme = []\n",
    "for i in SetScenariosNotExtreme:\n",
    "    ScenariosNotExtreme.append(i)\n",
    "    \n",
    "ScenariosNotExtremeArray = np.array(ScenariosNotExtreme)"
   ]
  },
  {
   "cell_type": "code",
   "execution_count": null,
   "metadata": {},
   "outputs": [],
   "source": [
    "## Check out how many extreme cases depending on used policy"
   ]
  },
  {
   "cell_type": "code",
   "execution_count": null,
   "metadata": {},
   "outputs": [],
   "source": [
    "nbExtremeNoP = len(ExtremeScenariosAllArray[ExtremeScenariosAllArray < 1000])  # no policy\n",
    "nbExtremeNoP/nbscenarios"
   ]
  },
  {
   "cell_type": "code",
   "execution_count": null,
   "metadata": {},
   "outputs": [],
   "source": [
    "nbExtremeCombined = len(ExtremeScenariosAllArray[ExtremeScenariosAllArray > 3000])  # combined policy\n",
    "nbExtremeCombined/nbscenarios"
   ]
  },
  {
   "cell_type": "code",
   "execution_count": null,
   "metadata": {
    "scrolled": true
   },
   "outputs": [],
   "source": [
    "# plot no policy\n",
    "tmp = ScenariosNotExtremeArray[ScenariosNotExtremeArray < 1000 ]\n",
    "\n",
    "ooiCombined = {}\n",
    "ooiCombined['New percentage of GDP A'] = outcomes['New percentage of GDP A'][tmp]\n",
    "ooiCombined['New percentage of GDP B'] = outcomes['New percentage of GDP B'][tmp]\n",
    "\n",
    "figure = lines(experiments.iloc[tmp], ooiCombined)#, density = kde) #show lines, and end state density\n",
    "plt.rcParams[\"figure.figsize\"] =(10,10)\n",
    "#fig.set_size_inches(5, 5)\n",
    "\n",
    "plt.show() #show figure"
   ]
  },
  {
   "cell_type": "code",
   "execution_count": null,
   "metadata": {},
   "outputs": [],
   "source": [
    "# plot combined policy\n",
    "tmp = ScenariosNotExtremeArray[ScenariosNotExtremeArray > 3000 ]\n",
    "\n",
    "ooiCombined = {}\n",
    "ooiCombined['Stock A'] = outcomes['UAS stock A'][tmp]\n",
    "ooiCombined['Stock B'] = outcomes['UAS stock B'][tmp]\n",
    "\n",
    "figure = lines(experiments.iloc[tmp], ooiCombined)#, density = kde) #show lines, and end state density\n",
    "plt.rcParams[\"figure.figsize\"] =(5,5)\n",
    "#fig.set_size_inches(5, 5)\n",
    "\n",
    "plt.show() #show figure"
   ]
  },
  {
   "cell_type": "code",
   "execution_count": null,
   "metadata": {},
   "outputs": [],
   "source": [
    "#plot one nice scenario\n",
    "df1 = pd.Series( outcomes['New percentage of GDP A'][combinedRaceB[BwinsBRace][0][1]]) \n",
    "df2 = pd.Series( outcomes['New percentage of GDP B'][combinedRaceB[BwinsBRace][0][1]])\n",
    "df1.plot(label='New percentage of GDP A')\n",
    "df2.plot(label='New percentage of GDP B')\n",
    "plt.legend()\n",
    "plt.title(\"Evolution of the defense spendings of nations A and B\")\n",
    "plt.xlabel(\"Time Steps\")\n",
    "plt.ylabel(\"New percentage of GDP\")\n",
    "plt.show()"
   ]
  },
  {
   "cell_type": "markdown",
   "metadata": {},
   "source": [
    "# Find Arms Races"
   ]
  },
  {
   "cell_type": "markdown",
   "metadata": {},
   "source": [
    "Arms races are those scenarios where nations increase they defense spending by more than 50% over 5 years."
   ]
  },
  {
   "cell_type": "code",
   "execution_count": null,
   "metadata": {},
   "outputs": [],
   "source": [
    "GDPa = pd.DataFrame(outcomes['New percentage of GDP A'])\n",
    "GDPb = pd.DataFrame(outcomes['New percentage of GDP B'])"
   ]
  },
  {
   "cell_type": "code",
   "execution_count": null,
   "metadata": {
    "scrolled": true
   },
   "outputs": [],
   "source": [
    "#comppute growht races\n",
    "growthRatesA = []\n",
    "growthRatesB = []\n",
    "for i in range(len(GDPa)):\n",
    "    growthRatesA.append(GDPa.iloc[i,:].pct_change())\n",
    "    growthRatesB.append(GDPb.iloc[i,:].pct_change())\n",
    "    \n",
    "growthRatesDFA = pd.DataFrame(growthRatesA)\n",
    "growthRatesDFB = pd.DataFrame(growthRatesB)"
   ]
  },
  {
   "cell_type": "code",
   "execution_count": null,
   "metadata": {},
   "outputs": [],
   "source": [
    "# convert growth rates from time steps into years\n",
    "oneyear = 256 #time steps\n",
    "growthRatesYearA = []\n",
    "growthRatesYearB = []\n",
    "j = 0\n",
    "for i in range(30):\n",
    "    growthRatesYearA.append(growthRatesDFA.iloc[:,j:j+oneyear].sum(axis = 1))\n",
    "    growthRatesYearB.append(growthRatesDFB.iloc[:,j:j+oneyear].sum(axis = 1))\n",
    "    j += oneyear\n",
    "growthRatesYearDFA = pd.DataFrame(growthRatesYearA).T\n",
    "growthRatesYearDFB = pd.DataFrame(growthRatesYearB).T"
   ]
  },
  {
   "cell_type": "code",
   "execution_count": null,
   "metadata": {
    "scrolled": false
   },
   "outputs": [],
   "source": [
    "# sum up every combination of 5 years that exists within 30 years, which is 26\n",
    "duration = 5 # or 5, whatever you define an arms race is\n",
    "ArmsRacesA= []\n",
    "ArmsRacesB= []\n",
    "j = 0\n",
    "while j <= 30 - duration:\n",
    "    ArmsRacesA.append(growthRatesYearDFA.iloc[:,j:j+duration].sum(axis = 1))\n",
    "    ArmsRacesB.append(growthRatesYearDFB.iloc[:,j:j+duration].sum(axis = 1))\n",
    "    j = j + 1\n",
    "ArmsRacesDFA = pd.DataFrame(ArmsRacesA).T\n",
    "ArmsRacesDFB = pd.DataFrame(ArmsRacesB).T"
   ]
  },
  {
   "cell_type": "code",
   "execution_count": null,
   "metadata": {},
   "outputs": [],
   "source": [
    "#ALL ARMS RACES\n",
    "threshold = 0.5\n",
    "RacingScenarios = []\n",
    "nb_scenarios = len(ArmsRacesDFB)\n",
    "for column in range(30 - duration + 1):\n",
    "    for row in range(nb_scenarios):\n",
    "        if (ArmsRacesDFA.iloc[row, column] > threshold) or (ArmsRacesDFB.iloc[row, column] > threshold):\n",
    "            RacingScenarios.append(row)\n",
    "Races = (np.unique(RacingScenarios))\n",
    "len(Races)"
   ]
  },
  {
   "cell_type": "code",
   "execution_count": null,
   "metadata": {},
   "outputs": [],
   "source": [
    "#BILATERAL ARMS RACES\n",
    "threshold = 0.5\n",
    "RacingScenarios = []\n",
    "nb_scenarios = len(ArmsRacesDFB)\n",
    "for column in range(30 - duration + 1):\n",
    "    for row in range(nb_scenarios):\n",
    "        if (ArmsRacesDFA.iloc[row, column] > threshold) and (ArmsRacesDFB.iloc[row, column] > threshold):\n",
    "            RacingScenarios.append(row)\n",
    "bilateralRaces = (np.unique(RacingScenarios))\n",
    "len(bilateralRaces)"
   ]
  },
  {
   "cell_type": "code",
   "execution_count": null,
   "metadata": {},
   "outputs": [],
   "source": [
    "nbArmsRacesCombined=len(Races[Races > 3000]) # combined\n",
    "nbArmsRacesCombined/nbscenarios"
   ]
  },
  {
   "cell_type": "code",
   "execution_count": null,
   "metadata": {},
   "outputs": [],
   "source": [
    "nbArmsRacesNoPolicy=len(Races[Races < 1000]) #no policy\n",
    "nbArmsRacesNoPolicy/nbscenarios"
   ]
  },
  {
   "cell_type": "code",
   "execution_count": null,
   "metadata": {
    "scrolled": true
   },
   "outputs": [],
   "source": [
    "len(Races)/nbscenarios"
   ]
  },
  {
   "cell_type": "code",
   "execution_count": null,
   "metadata": {},
   "outputs": [],
   "source": [
    "len(bilateralRaces)/len(Races)"
   ]
  },
  {
   "cell_type": "code",
   "execution_count": null,
   "metadata": {},
   "outputs": [],
   "source": [
    "# Driven by A\n",
    "threshold = 0.5\n",
    "RacingScenarios = []\n",
    "nb_scenarios = len(ArmsRacesDFB)\n",
    "for column in range(30 - duration + 1):\n",
    "    for row in range(nb_scenarios):\n",
    "        if (ArmsRacesDFA.iloc[row, column] > threshold):\n",
    "            RacingScenarios.append(row)\n",
    "ARaces = (np.unique(RacingScenarios))"
   ]
  },
  {
   "cell_type": "code",
   "execution_count": null,
   "metadata": {},
   "outputs": [],
   "source": [
    "## those that are only driven by A and are not bilateral ones\n",
    "onlyARaces = np.setxor1d(ARaces, bilateralRaces)\n",
    "len(onlyARaces)"
   ]
  },
  {
   "cell_type": "code",
   "execution_count": null,
   "metadata": {},
   "outputs": [],
   "source": [
    "# Driven by B\n",
    "threshold = 0.5\n",
    "RacingScenarios = []\n",
    "nb_scenarios = len(ArmsRacesDFB)\n",
    "for column in range(30 - duration + 1):\n",
    "    for row in range(nb_scenarios):\n",
    "        if (ArmsRacesDFB.iloc[row, column] > threshold):\n",
    "            RacingScenarios.append(row)\n",
    "BRaces = (np.unique(RacingScenarios))"
   ]
  },
  {
   "cell_type": "code",
   "execution_count": null,
   "metadata": {
    "scrolled": true
   },
   "outputs": [],
   "source": [
    "# those that are only driven by B\n",
    "onlyBRaces = np.setxor1d(BRaces, bilateralRaces)\n",
    "len(onlyBRaces)"
   ]
  },
  {
   "cell_type": "code",
   "execution_count": null,
   "metadata": {
    "scrolled": true
   },
   "outputs": [],
   "source": [
    "len(onlyBRaces)/len(Races)"
   ]
  },
  {
   "cell_type": "code",
   "execution_count": null,
   "metadata": {},
   "outputs": [],
   "source": [
    "len(onlyARaces)/len(Races)"
   ]
  },
  {
   "cell_type": "code",
   "execution_count": null,
   "metadata": {
    "scrolled": true
   },
   "outputs": [],
   "source": [
    "#How many scenarios is that?\n",
    "len(Races)/len(ArmsRacesDFA)"
   ]
  },
  {
   "cell_type": "markdown",
   "metadata": {},
   "source": [
    "#  Who wins??"
   ]
  },
  {
   "cell_type": "markdown",
   "metadata": {},
   "source": [
    "The winner is the nation that by the end of the simulation time has the greatest quantity weighted by their effectiveness."
   ]
  },
  {
   "cell_type": "code",
   "execution_count": null,
   "metadata": {},
   "outputs": [],
   "source": [
    "# get indices of experiments per policy\n",
    "funding = np.array(range(2000, 3000))\n",
    "combined = np.array(range(3000, 4000))"
   ]
  },
  {
   "cell_type": "code",
   "execution_count": null,
   "metadata": {},
   "outputs": [],
   "source": [
    "# get those scenarios where there are no races happening\n",
    "SetScenariosNotRaces = []\n",
    "SetScenariosNotRaces = set(np.array(range(nbscenarios)))- set(Races) # - set(ExtremeScenariosAll)\n",
    "ScenariosNotRaces = []\n",
    "for i in SetScenariosNotRaces:\n",
    "    ScenariosNotRaces.append(i)"
   ]
  },
  {
   "cell_type": "code",
   "execution_count": null,
   "metadata": {},
   "outputs": [],
   "source": [
    "# races\n",
    "# quality policy\n",
    "qualityRace = Races[Races > 1000 ]\n",
    "qualityRace = qualityRace[qualityRace < 2000]\n",
    "# funding policy\n",
    "fundingRace = Races[Races > 2000 ]\n",
    "fundingRace = fundingdRace[fundingdRace < 3000]\n",
    "#combined\n",
    "combinedRace = Races[Races > 3000 ]\n",
    "\n",
    "\n",
    "#bilatearl races\n",
    "#quality policy\n",
    "qualityRacebilateral = bilateralRaces[bilateralRaces > 1000 ]\n",
    "qualityRacebilateral = qualityRacebilateral[qualityRacebilateral < 2000]\n",
    "#funding\n",
    "fundingdRacebilateral = bilateralRaces[bilateralRaces > 2000 ]\n",
    "fundingdRacebilateral = fundingdRacebilateral[fundingdRacebilateral < 3000]\n",
    "#combined\n",
    "combinedRacebilateral = bilateralRaces[bilateralRaces > 3000 ]\n",
    "\n",
    "\n",
    "#A driven races\n",
    "#quality\n",
    "qualityRaceA = onlyARaces[onlyARaces > 1000 ]\n",
    "qualityRaceA = qualityRaceA[qualityRaceA < 2000]\n",
    "#funding\n",
    "fundingdRaceA = onlyARaces[onlyARaces > 2000 ]\n",
    "fundingdRaceA = fundingdRaceA[fundingdRaceA < 3000]\n",
    "#combined\n",
    "combinedRaceA= onlyARaces[onlyARaces > 3000 ]\n",
    "\n",
    "\n",
    "\n",
    "#B races\n",
    "#quality\n",
    "qualityRaceB = onlyBRaces[onlyBRaces > 1000 ]\n",
    "qualityRaceB = qualityRaceB[qualityRaceB < 2000]\n",
    "#funding\n",
    "fundingRaceB = onlyBRaces[onlyBRaces > 2000 ]\n",
    "fundingRaceB = fundingdRaceB[fundingdRaceB < 3000]\n",
    "#combined\n",
    "combinedRaceB= onlyBRaces[onlyBRaces > 3000 ]\n",
    "\n",
    "# scenarios where no races happen\n",
    "#quality\n",
    "noQualityRace = np.array(ScenariosNotRaces)[np.array(ScenariosNotRaces) > 1000]\n",
    "noQualityRace = noQualityRace[noQualityRace < 2000]\n",
    "#funding\n",
    "nofundingRace = np.array(ScenariosNotRaces)[np.array(ScenariosNotRaces) > 2000]\n",
    "nofundingRace = nofundingRace[nofundingRace < 3000]\n",
    "#combined\n",
    "noCombinedRace = np.array(ScenariosNotRaces)[np.array(ScenariosNotRaces) > 3000]"
   ]
  },
  {
   "cell_type": "code",
   "execution_count": null,
   "metadata": {},
   "outputs": [],
   "source": [
    "# compute ratios of UAS to later check out who wins depending on the policy\n",
    "UASratioRaces = []\n",
    "UASratiobilateral = []\n",
    "UASratioARaces = []\n",
    "UASratioBRaces = []\n",
    "UASratioNoRaces = []\n",
    "\n",
    "for i in combinedRace: # or Race, qualityRace, fundingRace\n",
    "    UASratioRaces.append((outcomes['UAS stock A'][i][7680]*outcomes['effectiveness UAS stock A'][i][7680])/(outcomes['UAS stock B'][i][7680] * outcomes['effectiveness UAS stock B'][i][7680]))\n",
    "for i in combinedRacebilateral: # or bilateralRaces, fundingdRacebilateral, qualityRacebilateral\n",
    "    UASratiobilateral.append((outcomes['UAS stock A'][i][7680]*outcomes['effectiveness UAS stock A'][i][7680])/(outcomes['UAS stock B'][i][7680] * outcomes['effectiveness UAS stock B'][i][7680]))\n",
    "for i in combinedRaceA: # or onlyARaces, fundingRaceA, qualityRaceA\n",
    "    UASratioARaces.append((outcomes['UAS stock A'][i][7680]*outcomes['effectiveness UAS stock A'][i][7680])/(outcomes['UAS stock B'][i][7680] * outcomes['effectiveness UAS stock B'][i][7680]))\n",
    "for i in combinedRaceB: # or onlyBRaces, fundingRaceB, qualityRaceB\n",
    "    UASratioBRaces.append((outcomes['UAS stock A'][i][7680]*outcomes['effectiveness UAS stock A'][i][7680])/(outcomes['UAS stock B'][i][7680] * outcomes['effectiveness UAS stock B'][i][7680]))\n",
    "for i in noCombinedRace: # or in np.array(ScenariosNotRaces)[np.array(ScenariosNotRaces) >0], nofundingRace, noQualityRace\n",
    "    UASratioNoRaces.append((outcomes['UAS stock A'][i][7680]*outcomes['effectiveness UAS stock A'][i][7680])/(outcomes['UAS stock B'][i][7680] * outcomes['effectiveness UAS stock B'][i][7680]))\n"
   ]
  },
  {
   "cell_type": "code",
   "execution_count": null,
   "metadata": {},
   "outputs": [],
   "source": [
    "# depending of type of race, compute who wins\n",
    "def racetypeToCheck(ListRace):\n",
    "    \n",
    "    UASratioRacesArray = np.array(ListRace)\n",
    "    UASratioRacesArray# funding\n",
    "\n",
    "    percentageAwins = np.sum(x > 1 for x in UASratioRacesArray) / len(UASratioRacesArray)\n",
    "    AwinsRace = [] # this list has the indeces of the Races in which nation A wins!\n",
    "    AwinsRace.append([i for i in range(len(UASratioRacesArray)) if UASratioRacesArray[i] > 1])\n",
    "    \n",
    "    percentageBwins = np.sum(x < 1 for x in UASratioRacesArray) / len(UASratioRacesArray)\n",
    "    BwinsRace = [] # this list has the indeces of the Races in which nation B wins!\n",
    "    BwinsRace.append([i for i in range(len(UASratioRacesArray)) if UASratioRacesArray[i] < 1])\n",
    "\n",
    "    return percentageAwins, percentageBwins, AwinsRace, BwinsRace"
   ]
  },
  {
   "cell_type": "code",
   "execution_count": null,
   "metadata": {
    "scrolled": true
   },
   "outputs": [],
   "source": [
    "# get percentage of races that A or B wins depending on type of race\n",
    "percentageAwinsGeneral, percentageBwinsGeneral, AwinsGeneralRace, BwinsGeneralRace = racetypeToCheck(UASratioRaces)\n",
    "percentageAwinsBilateral, percentageBwinsBilateral, AwinsBilateralRace, BwinsBilateralRace = racetypeToCheck(UASratiobilateral)\n",
    "percentageAwinsARace, percentageBwinsARace, AwinsARace, BwinsARace = racetypeToCheck(UASratioARaces)\n",
    "percentageAwinsBRace, percentageBwinsBRace, AwinsBRace, BwinsBRace = racetypeToCheck(UASratioBRaces)\n",
    "percentageAwinsNoRace, percentageBwinsNoRace, AwinsNoRace, BwinsNoRace = racetypeToCheck(UASratioNoRaces)"
   ]
  },
  {
   "cell_type": "code",
   "execution_count": null,
   "metadata": {},
   "outputs": [],
   "source": [
    "# plot some scenarios\n",
    "df1 = pd.Series( outcomes['effectiveness UAS stock A'][onlyARaces[AwinsARace[0][4]]])\n",
    "df2 = pd.Series( outcomes['effectiveness UAS stock B'][onlyARaces[AwinsARace[0][4]]])\n",
    "df1.plot(label='Effectiveness systems A')\n",
    "df2.plot(label='Effectiveness systems B')\n",
    "plt.legend()\n",
    "plt.title(\"Evolution of the effectiveness of autonomous systems\")\n",
    "plt.xlabel(\"Time Steps\")\n",
    "plt.ylabel(\"Effectiveness of systems (%)\")\n",
    "plt.show()"
   ]
  },
  {
   "cell_type": "code",
   "execution_count": null,
   "metadata": {},
   "outputs": [],
   "source": [
    "# get indeces of races per different policy\n",
    "noPolicyRaces = experiments.iloc[Races].loc[experiments['policy'] == 'no policy'].index\n",
    "qualityPolicyRaces = experiments.iloc[Races].loc[experiments['policy'] == 'quality policy'].index\n",
    "fundingPolicyRaces = experiments.iloc[Races].loc[experiments['policy'] == 'funding policy'].index\n",
    "combinedPolicyRaces = experiments.iloc[Races].loc[experiments['policy'] == 'combined policy'].index"
   ]
  },
  {
   "cell_type": "code",
   "execution_count": null,
   "metadata": {},
   "outputs": [],
   "source": [
    "# compute difference in parameter values for different policies\n",
    "\n",
    "df2 = pd.DataFrame(experiments.iloc[noPolicyRaces].mean(),columns = ['No Policy Races'])\n",
    "\n",
    "df2['Quality Policy Races'] = experiments.iloc[qualityPolicyRaces].mean()\n",
    "df2['Funding Policy Races'] = experiments.iloc[fundingPolicyRaces].mean()\n",
    "df2['Combined Policy Races'] = experiments.iloc[combinedPolicyRaces].mean()\n",
    "\n",
    "df2['Relative Diff None vs Quality Policy %'] = 100* (df2['Quality Policy Races']  - df2['No Policy Races']) / df2['Quality Policy Races']\n",
    "df2['Relative Diff None vs Funding Policy %'] = 100* (df2['Funding Policy Races']  - df2['No Policy Races']) / df2['Funding Policy Races']\n",
    "df2['Relative Diff None vs Combined Policy %'] = 100* (df2['Combined Policy Races']  - df2['No Policy Races'])/df2['Combined Policy Races']\n",
    "\n",
    "\n",
    "pd.set_option('display.max_rows', None)\n",
    "\n",
    "# show those where the difference is more than 10%\n",
    "pd.DataFrame(df2[abs(df2['Relative Diff None vs Funding Policy %']) > abs(1)]['Relative Diff None vs Funding Policy %'])"
   ]
  },
  {
   "cell_type": "markdown",
   "metadata": {},
   "source": [
    "# Cluster Defense Spending"
   ]
  },
  {
   "cell_type": "code",
   "execution_count": null,
   "metadata": {},
   "outputs": [],
   "source": [
    "nb_clusters = 3\n",
    "\n",
    "distancesB = clusterer.calculate_cid(outcomes['New percentage of GDP B'][Races])\n",
    "clusteringB = AgglomerativeClustering(n_clusters = nb_clusters).fit_predict(distancesB)\n",
    "\n",
    "distancesA = clusterer.calculate_cid(outcomes['New percentage of GDP A'][Races])\n",
    "clusteringA = AgglomerativeClustering(n_clusters = nb_clusters).fit_predict(distancesA)"
   ]
  },
  {
   "cell_type": "code",
   "execution_count": null,
   "metadata": {},
   "outputs": [],
   "source": [
    "experiments['Cluster B'] = 4 # cluster 4 being the cluster for those scenarios that are not races\n",
    "experiments['Cluster B'].iloc[Races] = clusteringB # add to dataframe\n",
    "experiments['Cluster B'] = experiments['Cluster B'].astype('category') # change data type to categorical \n",
    "experiments['Cluster A'] = 4 # not being a race at all\n",
    "experiments['Cluster A'].iloc[Races] = clusteringB\n",
    "experiments['Cluster A'] = experiments['Cluster A'].astype('category')"
   ]
  },
  {
   "cell_type": "code",
   "execution_count": null,
   "metadata": {},
   "outputs": [],
   "source": [
    "np.sum(np.where(experiments['Cluster A'] == 1, 1, 0) * Arace) #type of race in cluster"
   ]
  },
  {
   "cell_type": "code",
   "execution_count": null,
   "metadata": {},
   "outputs": [],
   "source": [
    "np.sum(np.where(experiments['Cluster A'] == 1, 1, 0) * Brace)"
   ]
  },
  {
   "cell_type": "code",
   "execution_count": null,
   "metadata": {},
   "outputs": [],
   "source": [
    "np.sum(np.where(experiments['Cluster A'] == 1, 1, 0) * bilateralrace)"
   ]
  },
  {
   "cell_type": "code",
   "execution_count": null,
   "metadata": {
    "scrolled": true
   },
   "outputs": [],
   "source": [
    "# plot all outcomes depending on clusters for defense spending B\n",
    "race = {}\n",
    "race['spending A'] = outcomes['New percentage of GDP A'][Races]\n",
    "race['spending B']= outcomes['New percentage of GDP B'][Races]\n",
    "\n",
    "figure = lines(experiments.iloc[Races], race, group_by = 'Cluster B')\n",
    "plt.rcParams[\"figure.figsize\"] =(10,10)\n",
    "plt.show()"
   ]
  },
  {
   "cell_type": "code",
   "execution_count": null,
   "metadata": {},
   "outputs": [],
   "source": [
    "# compute difference in parameter values of cluster membership \n",
    "df2 = pd.DataFrame(experiments.iloc[Races].mean(),columns = ['Races'])\n",
    "\n",
    "df2['Normal'] = experiments.iloc[ScenariosNotRaces].mean()\n",
    "df2['A: Cluster 0'] = experiments.iloc[ExpsNoExtrRaces.loc[ExpsNoExtrRaces['Cluster A'] == 0].index].mean()\n",
    "df2['A: Cluster 1'] = experiments.iloc[ExpsNoExtrRaces.loc[ExpsNoExtrRaces['Cluster A'] == 1].index].mean()\n",
    "df2['A: Cluster 2'] = experiments.iloc[ExpsNoExtrRaces.loc[ExpsNoExtrRaces['Cluster A'] == 2].index].mean()\n",
    "\n",
    "df2['B: Cluster 0'] = experiments.iloc[ExpsNoExtrRaces.loc[ExpsNoExtrRaces['Cluster B'] == 0].index].mean()\n",
    "df2['B: Cluster 1'] = experiments.iloc[ExpsNoExtrRaces.loc[ExpsNoExtrRaces['Cluster B'] == 1].index].mean()\n",
    "df2['B: Cluster 2'] = experiments.iloc[ExpsNoExtrRaces.loc[ExpsNoExtrRaces['Cluster B'] == 2].index].mean()\n",
    "\n",
    "df2['Relative Diff A 0 %'] = 100* (df2['A: Cluster 0']  - df2['Normal']) / df2['A: Cluster 0']\n",
    "df2['Relative Diff A 1 %'] = 100* (df2['A: Cluster 1']  - df2['Normal']) / df2['A: Cluster 1']\n",
    "df2['Relative Diff A 2 %'] = 100* (df2['A: Cluster 2']  - df2['Normal']) / df2['A: Cluster 2']\n",
    "\n",
    "df2['Relative Diff B 0 %'] = 100* (df2['B: Cluster 0']  - df2['Normal']) / df2['B: Cluster 0']\n",
    "df2['Relative Diff B 1 %'] = 100* (df2['B: Cluster 1']  - df2['Normal']) / df2['B: Cluster 1']\n",
    "df2['Relative Diff B 2 %'] = 100* (df2['B: Cluster 2']  - df2['Normal']) / df2['B: Cluster 2']\n",
    "\n",
    "pd.set_option('display.max_rows', None)\n",
    "\n",
    "df2"
   ]
  },
  {
   "cell_type": "markdown",
   "metadata": {},
   "source": [
    "# PRIM"
   ]
  },
  {
   "cell_type": "code",
   "execution_count": null,
   "metadata": {},
   "outputs": [],
   "source": [
    "ema_logging.log_to_stderr(ema_logging.INFO)"
   ]
  },
  {
   "cell_type": "code",
   "execution_count": null,
   "metadata": {},
   "outputs": [],
   "source": [
    "# prepare PRIM for regulation policies\n",
    "\n",
    "noPolicyRaces = experiments.iloc[Races].loc[experiments['policy'] == 'no policy'].index\n",
    "staticPolicyRaces = experiments.iloc[Races].loc[experiments['policy'] == 'static policy'].index\n",
    "adaptivePolicyRaces = experiments.iloc[Races].loc[experiments['policy'] == 'adaptive policy'].index\n",
    "midwayPolicyRaces = experiments.iloc[Races].loc[experiments['policy'] == 'halfway policy'].index\n",
    "\n",
    "staticPolicyRaces = [x - 30000 for x in staticPolicyRaces]\n",
    "adaptivePolicyRaces  = [x - 10000 for x in adaptivePolicyRaces]\n",
    "midwayPolicyRaces = [x - 20000 for x in midwayPolicyRaces]\n",
    "\n",
    "# no policy\n",
    "nprace = np.full((10000), False, dtype=bool)\n",
    "nprace[noPolicyRaces] = True\n",
    "# static regulation\n",
    "sprace = np.full((10000), False, dtype=bool)\n",
    "sprace[staticPolicyRaces] = True\n",
    "# adapting regulation\n",
    "aprace = np.full((10000), False, dtype=bool)\n",
    "aprace[adaptivePolicyRaces] = True\n",
    "#midway regulation\n",
    "mprace = np.full((10000), False, dtype=bool)\n",
    "mprace[midwayPolicyRaces] = True\n"
   ]
  },
  {
   "cell_type": "code",
   "execution_count": null,
   "metadata": {},
   "outputs": [],
   "source": [
    "# prepare PRIM for spoiling strategies\n",
    "\n",
    "noPolicyRaces = experiments.iloc[Races].loc[experiments['policy'] == 'no policy'].index\n",
    "qualityPolicyRaces = experiments.iloc[Races].loc[experiments['policy'] == 'quality policy'].index\n",
    "fundingPolicyRaces = experiments.iloc[Races].loc[experiments['policy'] == 'funding policy'].index\n",
    "combinedPolicyRaces = experiments.iloc[Races].loc[experiments['policy'] == 'combined policy'].index\n",
    "\n",
    "combinedPolicyRaces = [x - 30000 for x in combinedPolicyRaces]\n",
    "qualityPolicyRaces  = [x - 10000 for x in qualityPolicyRaces]\n",
    "fundingPolicyRaces = [x - 20000 for x in fundingPolicyRaces]\n",
    "\n",
    "#no policy\n",
    "nprace = np.full((10000), False, dtype=bool)\n",
    "nprace[noPolicyRaces] = True\n",
    "#combined strategy\n",
    "cprace = np.full((10000), False, dtype=bool) \n",
    "cprace[combinedPolicyRaces] = True\n",
    "#funding strategy\n",
    "fprace = np.full((10000), False, dtype=bool) \n",
    "fprace[fundingPolicyRaces] = True\n",
    "#quality strategy\n",
    "qprace = np.full((10000), False, dtype=bool)\n",
    "qprace[qualityPolicyRaces] = True"
   ]
  },
  {
   "cell_type": "code",
   "execution_count": null,
   "metadata": {},
   "outputs": [],
   "source": [
    "# run prim, either with qrace, nprace, cprace, fprace, qprace, sprace, aprace or mprace and the corresponding experiments in dataframe\n",
    "prim_alg = prim.Prim(experiments.loc[experiments['policy'] == 'quality policy'], qprace, threshold=0.02)\n",
    "\n",
    "#find box\n",
    "NPbox = prim_alg.find_box()\n",
    "\n",
    "boi = 50 # choose box of interest\n",
    "NPbox.show_tradeoff()\n",
    "NPbox.inspect(boi, style='graph')\n",
    "\n",
    "plt.show()"
   ]
  },
  {
   "cell_type": "code",
   "execution_count": null,
   "metadata": {},
   "outputs": [],
   "source": [
    "# PRIM based on the fact whether arms race or not!\n",
    "\n",
    "#normal races\n",
    "race = np.full((nbscenarios), False, dtype=bool)\n",
    "race[AntiRaces] = True\n",
    "#bilateral races\n",
    "bilateralrace = np.full((nbscenarios), False, dtype=bool)\n",
    "bilateralrace[bilateralRaces] = True\n",
    "#A driven Race\n",
    "Arace = np.full((nbscenarios), False, dtype=bool)\n",
    "Arace[onlyARaces] = True\n",
    "#B driven race\n",
    "Brace = np.full((nbscenarios), False, dtype=bool)\n",
    "Brace[onlyBRaces] = True\n",
    "\n",
    "prim_alg = prim.Prim(experiments, race, threshold=0.02) # race, bilateralrace, Arace or Brace"
   ]
  },
  {
   "cell_type": "code",
   "execution_count": null,
   "metadata": {},
   "outputs": [],
   "source": [
    "#find box and investigate\n",
    "box1 = prim_alg.find_box()\n",
    "\n",
    "boi=20 # choose one box of interest\n",
    "box1.show_tradeoff()\n",
    "box1.inspect(boi, style='graph')\n",
    "\n",
    "plt.show()"
   ]
  }
 ],
 "metadata": {
  "kernelspec": {
   "display_name": "Python 3",
   "language": "python",
   "name": "python3"
  },
  "language_info": {
   "codemirror_mode": {
    "name": "ipython",
    "version": 3
   },
   "file_extension": ".py",
   "mimetype": "text/x-python",
   "name": "python",
   "nbconvert_exporter": "python",
   "pygments_lexer": "ipython3",
   "version": "3.8.5"
  }
 },
 "nbformat": 4,
 "nbformat_minor": 4
}
